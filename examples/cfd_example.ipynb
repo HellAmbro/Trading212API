{
 "cells": [
  {
   "cell_type": "code",
   "execution_count": null,
   "outputs": [],
   "source": [
    "import configparser\n",
    "\n",
    "from selenium import webdriver\n",
    "from selenium.webdriver.chrome.service import Service\n",
    "from webdriver_manager.chrome import ChromeDriverManager\n",
    "\n",
    "from pytrading212 import CFD, CFDMarketOrder, CFDLimitStopOrder, CFDOCOOrder\n",
    "from pytrading212 import Mode"
   ],
   "metadata": {
    "collapsed": false
   }
  },
  {
   "cell_type": "code",
   "execution_count": null,
   "outputs": [],
   "source": [
    "config = configparser.ConfigParser()\n",
    "config.read('../config.ini')\n",
    "\n",
    "driver = webdriver.Chrome(service=Service())\n",
    "cfd = CFD(email=config['ACCOUNT']['email'], password=config['ACCOUNT']['password'], driver=driver, mode=Mode.DEMO)"
   ],
   "metadata": {
    "collapsed": false
   }
  },
  {
   "cell_type": "code",
   "execution_count": null,
   "outputs": [],
   "source": [
    "# Apple instrument code\n",
    "instrument_code = \"AAPL\""
   ],
   "metadata": {
    "collapsed": false
   }
  },
  {
   "cell_type": "markdown",
   "source": [
    "Market Orders"
   ],
   "metadata": {
    "collapsed": false
   }
  },
  {
   "cell_type": "code",
   "execution_count": null,
   "outputs": [],
   "source": [
    "cfd_order = CFDMarketOrder(instrument_code=instrument_code,\n",
    "                           quantity=0.1,  # Buy (quantity is positive)\n",
    "                           target_price=cfd.get_current_price(instrument_code=instrument_code))\n",
    "cfd.execute_order(cfd_order)"
   ],
   "metadata": {
    "collapsed": false
   }
  },
  {
   "cell_type": "code",
   "execution_count": null,
   "outputs": [],
   "source": [
    "current_price = cfd.get_current_price(instrument_code=instrument_code)\n",
    "cfd_order = CFDMarketOrder(instrument_code=instrument_code,\n",
    "                           quantity=0.5,\n",
    "                           target_price=current_price,\n",
    "                           limit_distance=5)\n",
    "cfd.execute_order(cfd_order)"
   ],
   "metadata": {
    "collapsed": false
   }
  },
  {
   "cell_type": "code",
   "execution_count": null,
   "outputs": [],
   "source": [
    "current_price = cfd.get_current_price(instrument_code=instrument_code)\n",
    "cfd_order = CFDMarketOrder(instrument_code=instrument_code,\n",
    "                           quantity=0.5,\n",
    "                           target_price=current_price,\n",
    "                           stop_distance=2.0)\n",
    "cfd.execute_order(cfd_order)"
   ],
   "metadata": {
    "collapsed": false
   }
  },
  {
   "cell_type": "code",
   "execution_count": null,
   "outputs": [],
   "source": [
    "current_price = cfd.get_current_price(instrument_code=instrument_code)\n",
    "cfd_order = CFDMarketOrder(instrument_code=instrument_code,\n",
    "                           quantity=0.5,\n",
    "                           target_price=current_price,\n",
    "                           limit_distance=4.0,\n",
    "                           stop_distance=2.0,\n",
    "                           )\n",
    "cfd.execute_order(cfd_order)"
   ],
   "metadata": {
    "collapsed": false
   }
  },
  {
   "cell_type": "markdown",
   "source": [
    "Limit/Stop Order (Pending Orders)"
   ],
   "metadata": {
    "collapsed": false
   }
  },
  {
   "cell_type": "code",
   "execution_count": null,
   "outputs": [],
   "source": [
    "target_price = cfd.get_current_price(instrument_code=instrument_code) - 20.0\n",
    "cfd_limit_stop_order = CFDLimitStopOrder(instrument_code=instrument_code,\n",
    "                                         target_price=target_price,\n",
    "                                         quantity=1,\n",
    "                                         take_profit=target_price + 10,\n",
    "                                         stop_loss=target_price - 10)\n",
    "cfd.execute_order(cfd_limit_stop_order)"
   ],
   "metadata": {
    "collapsed": false
   }
  },
  {
   "cell_type": "markdown",
   "source": [
    "OCO Order (Order Cancel Order)"
   ],
   "metadata": {
    "collapsed": false
   }
  },
  {
   "cell_type": "code",
   "execution_count": null,
   "outputs": [],
   "source": [
    "cfd_oco_order = CFDOCOOrder(instrument_code=instrument_code,\n",
    "                            order1=CFDOCOOrder.OCOSubOrder(price=150, quantity=1),\n",
    "                            order2=CFDOCOOrder.OCOSubOrder(price=180.0, quantity=-1))\n",
    "cfd.execute_order(cfd_oco_order)"
   ],
   "metadata": {
    "collapsed": false
   }
  }
 ],
 "metadata": {
  "kernelspec": {
   "display_name": "Python 3",
   "language": "python",
   "name": "python3"
  },
  "language_info": {
   "codemirror_mode": {
    "name": "ipython",
    "version": 2
   },
   "file_extension": ".py",
   "mimetype": "text/x-python",
   "name": "python",
   "nbconvert_exporter": "python",
   "pygments_lexer": "ipython2",
   "version": "2.7.6"
  }
 },
 "nbformat": 4,
 "nbformat_minor": 0
}
