{
 "cells": [
  {
   "cell_type": "markdown",
   "source": [
    "PyTrading Example"
   ],
   "metadata": {
    "collapsed": false
   }
  },
  {
   "cell_type": "code",
   "execution_count": null,
   "metadata": {
    "collapsed": true,
    "ExecuteTime": {
     "start_time": "2023-03-31T09:00:33.436017Z",
     "end_time": "2023-03-31T09:00:33.617145Z"
    }
   },
   "outputs": [],
   "source": [
    "import configparser\n",
    "\n",
    "from selenium import webdriver\n",
    "from selenium.webdriver.chrome.service import Service\n",
    "from webdriver_manager.chrome import ChromeDriverManager\n",
    "from pytrading212 import EquityOrder\n",
    "from pytrading212 import Equity\n",
    "from pytrading212 import Mode\n",
    "from pytrading212 import OrderType\n",
    "from pytrading212 import MarketOrder"
   ]
  },
  {
   "cell_type": "markdown",
   "source": [
    "Initialize Trading Equity API"
   ],
   "metadata": {
    "collapsed": false
   }
  },
  {
   "cell_type": "code",
   "execution_count": null,
   "outputs": [],
   "source": [
    "config = configparser.ConfigParser()\n",
    "config.read('../config.ini')\n",
    "\n",
    "driver = webdriver.Chrome(service=Service(ChromeDriverManager().install()))\n",
    "equity = Equity(email=config['ACCOUNT']['email'], password=config['ACCOUNT']['password'], driver=driver, mode=Mode.DEMO)"
   ],
   "metadata": {
    "collapsed": false,
    "ExecuteTime": {
     "start_time": "2023-03-31T09:00:33.475111Z",
     "end_time": "2023-03-31T09:02:05.788504Z"
    }
   }
  },
  {
   "cell_type": "markdown",
   "source": [
    "Create an Equity Order"
   ],
   "metadata": {
    "collapsed": false
   }
  },
  {
   "cell_type": "code",
   "execution_count": null,
   "outputs": [],
   "source": [
    "# Invalid order: voluntary typo-error in instrument code AAPLL_US_EQ\n",
    "order = EquityOrder(instrument_code=\"AAPLL_US_EQ\",order_type=OrderType.MARKET, quantity=1)"
   ],
   "metadata": {
    "collapsed": false,
    "ExecuteTime": {
     "start_time": "2023-03-31T09:02:05.788504Z",
     "end_time": "2023-03-31T09:02:05.822379Z"
    }
   }
  },
  {
   "cell_type": "markdown",
   "source": [
    "Check if your order is valid"
   ],
   "metadata": {
    "collapsed": false
   }
  },
  {
   "cell_type": "code",
   "execution_count": null,
   "outputs": [],
   "source": [
    "is_valid, reason = equity.check_order(order)\n",
    "if is_valid:\n",
    "    print(\"Your order is valid, can be executed\")\n",
    "else:\n",
    "    print(\"Your order is not valid. The reason is: \", reason)"
   ],
   "metadata": {
    "collapsed": false,
    "ExecuteTime": {
     "start_time": "2023-03-31T09:02:05.822379Z",
     "end_time": "2023-03-31T09:02:07.281516Z"
    }
   }
  },
  {
   "cell_type": "markdown",
   "source": [
    "Create a new Equity Order"
   ],
   "metadata": {
    "collapsed": false
   }
  },
  {
   "cell_type": "code",
   "execution_count": null,
   "outputs": [],
   "source": [
    "# Valid order\n",
    "order = EquityOrder(instrument_code=\"AAPL_US_EQ\", order_type=OrderType.MARKET, quantity=2)\n",
    "# Check order validity\n",
    "if equity.check_order(order)[0]:\n",
    "    # Review order\n",
    "    print(equity.review_order(order))\n",
    "    # Execute order\n",
    "    print(equity.execute_order(order))"
   ],
   "metadata": {
    "collapsed": false,
    "ExecuteTime": {
     "start_time": "2023-03-31T09:02:07.281516Z",
     "end_time": "2023-03-31T09:02:10.015048Z"
    }
   }
  },
  {
   "cell_type": "code",
   "execution_count": null,
   "outputs": [],
   "source": [
    "market_order = MarketOrder(instrument_code=\"AAPL_US_EQ\", quantity=1)"
   ],
   "metadata": {
    "collapsed": false,
    "ExecuteTime": {
     "start_time": "2023-03-31T09:02:10.024725Z",
     "end_time": "2023-03-31T09:02:10.027275Z"
    }
   }
  },
  {
   "cell_type": "code",
   "execution_count": null,
   "outputs": [],
   "source": [
    "if equity.check_order(market_order)[0]:\n",
    "    # Review order\n",
    "    print(equity.review_order(market_order))\n",
    "    # Execute order\n",
    "    print(equity.execute_order(market_order))"
   ],
   "metadata": {
    "collapsed": false,
    "ExecuteTime": {
     "start_time": "2023-03-31T09:02:10.027275Z",
     "end_time": "2023-03-31T09:02:12.449280Z"
    }
   }
  },
  {
   "cell_type": "code",
   "execution_count": null,
   "outputs": [],
   "source": [
    "equity.get_companies()"
   ],
   "metadata": {
    "collapsed": false,
    "ExecuteTime": {
     "start_time": "2023-03-31T09:02:12.447280Z",
     "end_time": "2023-03-31T09:02:15.204227Z"
    }
   }
  },
  {
   "cell_type": "code",
   "execution_count": null,
   "outputs": [],
   "source": [
    "equity.finish()"
   ],
   "metadata": {
    "collapsed": false
   }
  }
 ],
 "metadata": {
  "kernelspec": {
   "display_name": "Python 3",
   "language": "python",
   "name": "python3"
  },
  "language_info": {
   "codemirror_mode": {
    "name": "ipython",
    "version": 2
   },
   "file_extension": ".py",
   "mimetype": "text/x-python",
   "name": "python",
   "nbconvert_exporter": "python",
   "pygments_lexer": "ipython2",
   "version": "2.7.6"
  }
 },
 "nbformat": 4,
 "nbformat_minor": 0
}
